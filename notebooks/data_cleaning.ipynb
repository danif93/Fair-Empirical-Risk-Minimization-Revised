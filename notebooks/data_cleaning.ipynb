{
 "cells": [
  {
   "cell_type": "code",
   "execution_count": null,
   "id": "f722e3f1",
   "metadata": {},
   "outputs": [],
   "source": [
    "import os\n",
    "\n",
    "os.chdir('..')\n",
    "os.makedirs('data/raw', exist_ok=True)"
   ]
  },
  {
   "cell_type": "code",
   "execution_count": null,
   "id": "b2a579ab-d0ab-4168-bf02-53cd7ce44c32",
   "metadata": {},
   "outputs": [],
   "source": [
    "# download the raw datasets\n",
    "import gdown\n",
    "\n",
    "gdown.download('https://drive.google.com/file/d/1Wm9rRmHoo_QDDmDxfTB9_binlvpVWZQE/view?usp=share_link',\n",
    "               'data/raw/adult.csv')\n",
    "gdown.download('https://drive.google.com/file/d/1ZT9i-G6MwAxNW4BR7jbr5rzYFZEI0xvw/view?usp=share_link',\n",
    "               'data/raw/arrhythmia.data')\n",
    "gdown.download('https://drive.google.com/file/d/10SCpydGfBXLs0_4a9CSl6OfssMVHA6DL/view?usp=share_link',\n",
    "               'data/raw/compas.csv')\n",
    "gdown.download('https://drive.google.com/file/d/1xgKwn68gNHftZ2AtRQazZ7op-2f2Zdyv/view?usp=share_link',\n",
    "               'data/raw/credit.csv')\n",
    "gdown.download('https://drive.google.com/file/d/1bZXLqHoC0kp9QwLQKpwkFXJmAvfX1ouM/view?usp=share_link',\n",
    "               'data/raw/drug.data')\n",
    "gdown.download('https://drive.google.com/file/d/1g_N-7v_W0Xe4Tdxn4e6Vm3L0n6tUGJs2/view?usp=share_link',\n",
    "               'data/raw/SouthGermanCredit.asc')\n",
    "gdown.download('https://docs.google.com/spreadsheets/d/1vX9nM6A2MC5AIt3rXcExa5K6iFLgRG3o/edit?usp=share_link&ouid=115713880809429525240&rtpof=true&sd=true',\n",
    "               'data/raw/taiwan.xls')\n"
   ]
  },
  {
   "cell_type": "markdown",
   "id": "4b5a0cf5-cc03-44d2-a844-be20e5f8c7fe",
   "metadata": {
    "id": "QWZXycqXnlFQ",
    "tags": []
   },
   "source": [
    "# Data Cleaning & Preparing"
   ]
  },
  {
   "cell_type": "code",
   "execution_count": null,
   "id": "dd9e5da3-86ea-4372-b60e-baba1c053598",
   "metadata": {},
   "outputs": [],
   "source": [
    "import numpy as np\n",
    "import pandas as pd\n",
    "\n",
    "pd.set_option('display.max_columns', None)\n",
    "\n",
    "from fair_robust_classifiers.datasets.data_utils import (split_label_sensitive_and_store_data,\n",
    "                                                         print_eo_ratio,\n",
    "                                                         plot_distributions_sunburst)"
   ]
  },
  {
   "cell_type": "markdown",
   "id": "97493c1f-fe8e-41fd-8b9e-1d8874a90e7f",
   "metadata": {
    "id": "_EI3F5z6nnvS",
    "jp-MarkdownHeadingCollapsed": true,
    "tags": []
   },
   "source": [
    "## Arrhythmia"
   ]
  },
  {
   "cell_type": "code",
   "execution_count": null,
   "id": "e06d6c50-50e0-406a-b021-e37108aac969",
   "metadata": {
    "colab": {
     "base_uri": "https://localhost:8080/"
    },
    "executionInfo": {
     "elapsed": 355,
     "status": "ok",
     "timestamp": 1658933231997,
     "user": {
      "displayName": "Danilo Franco",
      "userId": "05892866970485480074"
     },
     "user_tz": -120
    },
    "id": "y_hj9qx0SY6M",
    "outputId": "8a810a04-37ef-456a-8bd1-2411c6786d13"
   },
   "outputs": [],
   "source": [
    "base_columns = ['age', 'sex', 'Height_cm', 'Weight_kg', 'QRS_duration', 'PR_interval',\n",
    "                'QT_interval', 'T_interval', 'P_interval', 'QRS', 'T', 'P', 'QRST', 'J', 'Heartrate_per_minute']\n",
    "\n",
    "channels = ['DI','DII','DIII','AVR','AVL','AVF','V1','V2','V3','V4','V5','V6']\n",
    "\n",
    "channel_info1 = ['avg_width_Q_wave', 'avg_width_R_wave', 'avg_width_S_wave', 'avg_width_R\\'_wave', 'avg_width_S\\'_wave',\n",
    "                 'num_intrinsic_deflections',\n",
    "                 'exist_ragged_R_wave', 'exist_diphasic_R_wave',\n",
    "                 'exist_ragged_P_wave', 'exist_diphasic_P_wave',\n",
    "                 'exist_ragged_T_wave', 'exist_diphasic_T_wave']\n",
    "channel_info2 = ['ampl_JJ_wave','ampl_Q_wave', 'ampl_R_wave', 'ampl_S_wave',\n",
    "                 'ampl_R\\'_wave','ampl_S\\'_wave','ampl_P_wave','ampl_T_wave',\n",
    "                 'QRSA','QRSTA']\n",
    "\n",
    "columns = base_columns + [f'{c}_{ci}' for ci in channel_info1 for c in channels] + [f'{c}_{ci}' for ci in channel_info2 for c in channels] + ['arrhythmiaType']\n",
    "columns = {col:i for i, col in enumerate(columns)}\n",
    "len(columns)"
   ]
  },
  {
   "cell_type": "code",
   "execution_count": null,
   "id": "7e265f7a-43b0-48f5-9967-c77d9c61ad1c",
   "metadata": {
    "colab": {
     "base_uri": "https://localhost:8080/",
     "height": 424
    },
    "executionInfo": {
     "elapsed": 419,
     "status": "ok",
     "timestamp": 1658933232415,
     "user": {
      "displayName": "Danilo Franco",
      "userId": "05892866970485480074"
     },
     "user_tz": -120
    },
    "id": "47gepWLIQazA",
    "outputId": "011072b0-f5a8-4895-e553-82841394b74a"
   },
   "outputs": [],
   "source": [
    "df = pd.read_csv(\"data/raw/arrhythmia.data\", sep=',', header=None, index_col=None, na_values='?', decimal='.', names=columns.keys())\n",
    "df"
   ]
  },
  {
   "cell_type": "code",
   "execution_count": null,
   "id": "5a6e99d8-3672-4001-a58b-6e8a7e897e4a",
   "metadata": {
    "colab": {
     "base_uri": "https://localhost:8080/",
     "height": 424
    },
    "executionInfo": {
     "elapsed": 308,
     "status": "ok",
     "timestamp": 1658322249967,
     "user": {
      "displayName": "Danilo Franco",
      "userId": "05892866970485480074"
     },
     "user_tz": -120
    },
    "id": "8zEGTnofUW8u",
    "outputId": "11ece771-a61d-42f0-9e1c-eebf0749ce11"
   },
   "outputs": [],
   "source": [
    "clean_df = df.dropna(axis='columns').drop(df[df['arrhythmiaType']==16].index)\n",
    "clean_df"
   ]
  },
  {
   "cell_type": "code",
   "execution_count": null,
   "id": "c430ccb3-bb31-4145-93ae-1a0f74ad3510",
   "metadata": {
    "colab": {
     "base_uri": "https://localhost:8080/",
     "height": 424
    },
    "executionInfo": {
     "elapsed": 318,
     "status": "ok",
     "timestamp": 1658322254349,
     "user": {
      "displayName": "Danilo Franco",
      "userId": "05892866970485480074"
     },
     "user_tz": -120
    },
    "id": "oMfdQC2ZnxBf",
    "outputId": "f0a98066-8066-42a9-b8d6-b527eef7d0b4"
   },
   "outputs": [],
   "source": [
    "neg_mask = clean_df['arrhythmiaType'] == 1\n",
    "clean_df.loc[neg_mask, 'hasArrhythmia'] = -1\n",
    "clean_df.loc[~neg_mask, 'hasArrhythmia'] = 1\n",
    "clean_df = clean_df.drop('arrhythmiaType', axis=1)\n",
    "clean_df"
   ]
  },
  {
   "cell_type": "code",
   "execution_count": null,
   "id": "94eddae2-d482-452b-83fc-e3d977c4c20c",
   "metadata": {},
   "outputs": [],
   "source": [
    "print_eo_ratio(clean_df, 'hasArrhythmia', 'sex')"
   ]
  },
  {
   "cell_type": "code",
   "execution_count": null,
   "id": "61f9f5de-5c7a-43ad-9e87-c9425379d325",
   "metadata": {},
   "outputs": [],
   "source": [
    "plot_distributions_sunburst(clean_df, 'hasArrhythmia', 'sex')"
   ]
  },
  {
   "cell_type": "code",
   "execution_count": null,
   "id": "41f2deb5-0396-4728-8d15-dc0caee70024",
   "metadata": {
    "id": "dQAD78SFoYV1"
   },
   "outputs": [],
   "source": [
    "clean_df.to_csv('data/full_clean_arrythmia.csv', index=False)"
   ]
  },
  {
   "cell_type": "code",
   "execution_count": null,
   "id": "871a5053-4a5b-474a-9c56-56388cb562e8",
   "metadata": {
    "colab": {
     "base_uri": "https://localhost:8080/"
    },
    "executionInfo": {
     "elapsed": 318,
     "status": "ok",
     "timestamp": 1658322284217,
     "user": {
      "displayName": "Danilo Franco",
      "userId": "05892866970485480074"
     },
     "user_tz": -120
    },
    "id": "BPSa4l-Up9OF",
    "outputId": "59cac9ea-0944-41ad-a20d-2bc616dc4220"
   },
   "outputs": [],
   "source": [
    "split_label_sensitive_and_store_data(clean_df,\n",
    "                                     labels = ['hasArrhythmia'],\n",
    "                                     sensitives = ['sex', None],\n",
    "                                     dataset_name = \"arrhythmia\")"
   ]
  },
  {
   "cell_type": "markdown",
   "id": "c70b3cb5-906f-4a1a-b389-70c3a941703c",
   "metadata": {
    "id": "9Tu53hrwn2MP",
    "jp-MarkdownHeadingCollapsed": true,
    "tags": []
   },
   "source": [
    "## COMPAS"
   ]
  },
  {
   "cell_type": "code",
   "execution_count": null,
   "id": "38d89cfb-0924-4a7a-a6ed-305f719b838b",
   "metadata": {
    "colab": {
     "base_uri": "https://localhost:8080/",
     "height": 644
    },
    "executionInfo": {
     "elapsed": 1136,
     "status": "ok",
     "timestamp": 1657874334709,
     "user": {
      "displayName": "Danilo Franco",
      "userId": "05892866970485480074"
     },
     "user_tz": -120
    },
    "id": "onoCGL-Q6Zq5",
    "outputId": "f718da74-1268-423b-ab60-e714d238945a"
   },
   "outputs": [],
   "source": [
    "df = pd.read_csv(\"data/raw/compas.csv\", sep=',', header=0, index_col=None, decimal='.', skipinitialspace=False)\n",
    "df"
   ]
  },
  {
   "cell_type": "code",
   "execution_count": null,
   "id": "c36d78ae-501c-43c5-afa8-eb65c13d2f9f",
   "metadata": {},
   "outputs": [],
   "source": [
    "# data filtering (refer to https://github.com/propublica/compas-analysis)\n",
    "idx = np.full(len(df), True)\n",
    "\n",
    "# If the charge date of a defendants Compas scored crime was not within 30 days\n",
    "# from when the person was arrested, we assume that because of data quality reasons,\n",
    "# that we do not have the right offense. \n",
    "idx &= (df[\"days_b_screening_arrest\"]<=30) & (df[\"days_b_screening_arrest\"]>=-30)\n",
    "\n",
    "# We coded the recidivist flag -- is_recid -- to be -1 if we could not find a compas case at all.\n",
    "idx &= df[\"is_recid\"] != -1\n",
    "\n",
    "# In a similar vein, ordinary traffic offenses -- those with a c_charge_degree of 'O' --\n",
    "# will not result in Jail time are removed (only two of them).\n",
    "idx &= df[\"c_charge_degree\"] != \"O\" # F: felony, M: misconduct\n",
    "\n",
    "# We filtered the underlying data from Broward county to include only those rows representing people who had either recidivated in two years, or had at least two years outside of a correctional facility.\n",
    "idx &= df[\"score_text\"] != \"NA\"\n",
    "\n",
    "# we will only consider blacks and whites for this analysis\n",
    "idx &= df[\"race\"].isin([\"African-American\", \"Caucasian\"])\n",
    "\n",
    "df = df.loc[idx]\n",
    "df"
   ]
  },
  {
   "cell_type": "code",
   "execution_count": null,
   "id": "43b4204e-bb82-4961-afd8-657408e2cf9c",
   "metadata": {},
   "outputs": [],
   "source": [
    "features = [\"age_cat\", \"race\", \"sex\", \"priors_count\", \"c_charge_degree\", 'two_year_recid']\n",
    "str_map = {'age_cat':\"ageCat\", 'priors_count':\"priorsCount\",\n",
    "           'c_charge_degree':\"cChargeDegree\", 'two_year_recid':'twoYearRecid'}\n",
    "clean_df = df[features].dropna(axis='rows').rename(columns=str_map)\n",
    "clean_df"
   ]
  },
  {
   "cell_type": "code",
   "execution_count": null,
   "id": "baf9d622-4da4-49b9-9497-3f99dc57bb4a",
   "metadata": {},
   "outputs": [],
   "source": [
    "# binarize target variables\n",
    "neg_mask = clean_df['twoYearRecid'] == 0\n",
    "clean_df.loc[neg_mask, 'twoYearRecid'] = -1\n",
    "clean_df.loc[~neg_mask, 'twoYearRecid'] = 1\n",
    "clean_df['twoYearRecid'] = clean_df['twoYearRecid'].astype(int)\n",
    "\n",
    "# binarize sensitive variables\n",
    "mask = clean_df['sex'] == 'Female'\n",
    "clean_df.loc[mask, 'sex'] = 0  # female\n",
    "clean_df.loc[~mask, 'sex'] = 1 # male\n",
    "clean_df['sex'] = clean_df['sex'].astype(int)\n",
    "\n",
    "mask = clean_df['race'] == 'African-American'\n",
    "clean_df.loc[mask, 'race'] = 0  # African-American\n",
    "clean_df.loc[~mask, 'race'] = 1 # Caucasian\n",
    "clean_df['race'] = clean_df['race'].astype(int)\n",
    "\n",
    "# binarize feature variables\n",
    "neg_mask = clean_df['cChargeDegree'] == 'F'\n",
    "clean_df.loc[neg_mask, 'cChargeDegree'] = 0\n",
    "clean_df.loc[~neg_mask, 'cChargeDegree'] = 1\n",
    "clean_df['cChargeDegree'] = clean_df['cChargeDegree'].astype(int)\n",
    "\n",
    "clean_df"
   ]
  },
  {
   "cell_type": "code",
   "execution_count": null,
   "id": "c2aa37b3-475b-41a7-8081-79c5fb003bab",
   "metadata": {},
   "outputs": [],
   "source": [
    "print_eo_ratio(clean_df, 'twoYearRecid', 'sex')"
   ]
  },
  {
   "cell_type": "code",
   "execution_count": null,
   "id": "c4a77cce-f004-426b-bcb3-f6fee5d6019e",
   "metadata": {},
   "outputs": [],
   "source": [
    "plot_distributions_sunburst(clean_df, 'twoYearRecid', 'sex')"
   ]
  },
  {
   "cell_type": "code",
   "execution_count": null,
   "id": "55a1687d-1c38-4caa-9dfb-4e4b14d8a0e5",
   "metadata": {},
   "outputs": [],
   "source": [
    "print_eo_ratio(clean_df, 'twoYearRecid', 'race')"
   ]
  },
  {
   "cell_type": "code",
   "execution_count": null,
   "id": "cb4d21e5-2f00-4207-a595-e6c233f2d571",
   "metadata": {},
   "outputs": [],
   "source": [
    "plot_distributions_sunburst(clean_df, 'twoYearRecid', 'race')"
   ]
  },
  {
   "cell_type": "code",
   "execution_count": null,
   "id": "26e59670-fd5c-4669-9dd3-1f85b8a18c24",
   "metadata": {},
   "outputs": [],
   "source": [
    "clean_df.to_csv('data/full_clean_compas.csv', index=False)"
   ]
  },
  {
   "cell_type": "code",
   "execution_count": null,
   "id": "8bfdd88a-d0c5-416b-83a2-fba1c2725fcf",
   "metadata": {},
   "outputs": [],
   "source": [
    "split_label_sensitive_and_store_data(clean_df,\n",
    "                                     labels = ['twoYearRecid'],\n",
    "                                     sensitives = ['sex', 'race', None],\n",
    "                                     dataset_name = \"compas\")"
   ]
  },
  {
   "cell_type": "markdown",
   "id": "6fed076f-a17e-4c20-9d6e-c8e1a7a4cf91",
   "metadata": {
    "id": "_FKuUzDxn2PG",
    "jp-MarkdownHeadingCollapsed": true,
    "tags": []
   },
   "source": [
    "## Adult"
   ]
  },
  {
   "cell_type": "code",
   "execution_count": null,
   "id": "54b73264-10d0-4ece-899f-a27bedc1ee9a",
   "metadata": {
    "colab": {
     "base_uri": "https://localhost:8080/"
    },
    "executionInfo": {
     "elapsed": 715,
     "status": "ok",
     "timestamp": 1658245399585,
     "user": {
      "displayName": "Danilo Franco",
      "userId": "05892866970485480074"
     },
     "user_tz": -120
    },
    "id": "0OsftDeIVQP6",
    "outputId": "c3c3db11-7cd9-447d-c731-09742fcc1dbf"
   },
   "outputs": [],
   "source": [
    "columns = {'age':0, 'workclass':1, 'fnlwgt':2, 'education':3, 'educationNum':4, 'maritalStatus':5,\n",
    "           'occupation':6, 'relationship':7, 'race':8, 'sex':9, 'capitalGain':10, 'capitalLoss':11,\n",
    "           'hoursPerWeek':12, 'nativeCountry':13, 'grossIncomeGEQ50k':14,}\n",
    "\n",
    "df = pd.read_csv(\"data/raw/adult.csv\", sep=',', header=0, index_col=None, na_values='', decimal='.')\n",
    "df"
   ]
  },
  {
   "cell_type": "code",
   "execution_count": null,
   "id": "f872632f-93b4-4130-a0ab-80acbdf984a4",
   "metadata": {},
   "outputs": [],
   "source": [
    "# drop unused columns:\n",
    "# we will not consider fnlwght for classification since its computed externally and \n",
    "# it highly predictive for the class (for details, see documentation of the adult data)\n",
    "df = df.dropna(axis='rows').drop(['fnlwgt', 'relationship'], axis='columns')\n",
    "\n",
    "# reducing dimensionality of some very sparse features\n",
    "mask = df[\"education\"].isin([\"Preschool\", \"1st-4th\", \"5th-6th\", \"7th-8th\"])\n",
    "df.loc[mask, \"education\"] = \"prim-middle-school\"\n",
    "\n",
    "mask = df[\"education\"].isin([\"9th\", \"10th\", \"11th\", \"12th\"])\n",
    "df.loc[mask, \"education\"] = \"high-school\"\n",
    "\n",
    "# binarize sensitive variables\n",
    "mask = df[\"nativeCountry\"] == \"United-States\"\n",
    "df.loc[mask, \"nativeCountry\"] = 1 # United-States\n",
    "df.loc[~mask, \"nativeCountry\"] = 0 # Non-United-States\n",
    "df['nativeCountry'] = df['nativeCountry'].astype(int)\n",
    "\n",
    "mask = df[\"race\"] == \"White\"\n",
    "df.loc[mask, \"race\"] = 1 # White\n",
    "df.loc[~mask, \"race\"] = 0 # Non-White\n",
    "df['race'] = df['race'].astype(int)\n",
    "\n",
    "mask = df[\"sex\"] == \"Male\"\n",
    "df.loc[mask, \"sex\"] = 1 # male\n",
    "df.loc[~mask, \"sex\"] = 0 # female\n",
    "df['sex'] = df['sex'].astype(int)\n",
    "\n",
    "# binarize target variables\n",
    "neg_mask = df['grossIncomeGEQ50k'].isin(['<=50K','<=50K.'])\n",
    "df.loc[neg_mask, 'grossIncomeGEQ50k'] = -1\n",
    "df.loc[~neg_mask, 'grossIncomeGEQ50k'] = 1\n",
    "df['grossIncomeGEQ50k'] = df['grossIncomeGEQ50k'].astype(int)\n",
    "df"
   ]
  },
  {
   "cell_type": "code",
   "execution_count": null,
   "id": "a5aff672-b25b-4d53-9048-1288a6daf06b",
   "metadata": {},
   "outputs": [],
   "source": [
    "print_eo_ratio(df, 'grossIncomeGEQ50k', 'race')"
   ]
  },
  {
   "cell_type": "code",
   "execution_count": null,
   "id": "5a20f203-90db-4d93-8e4e-1e44c14ad0a1",
   "metadata": {},
   "outputs": [],
   "source": [
    "plot_distributions_sunburst(df, 'grossIncomeGEQ50k', 'race')"
   ]
  },
  {
   "cell_type": "code",
   "execution_count": null,
   "id": "527fbf55-fbec-46a2-aeb8-b6fa8dd84d4e",
   "metadata": {},
   "outputs": [],
   "source": [
    "print_eo_ratio(df, 'grossIncomeGEQ50k', 'sex')"
   ]
  },
  {
   "cell_type": "code",
   "execution_count": null,
   "id": "78a95deb-effe-4060-8e2f-66bbba7f1724",
   "metadata": {},
   "outputs": [],
   "source": [
    "plot_distributions_sunburst(df, 'grossIncomeGEQ50k', 'sex')"
   ]
  },
  {
   "cell_type": "code",
   "execution_count": null,
   "id": "59c6cb70-5766-4805-9233-cdc8d22c602d",
   "metadata": {},
   "outputs": [],
   "source": [
    "print_eo_ratio(df, 'grossIncomeGEQ50k', 'nativeCountry')"
   ]
  },
  {
   "cell_type": "code",
   "execution_count": null,
   "id": "1abab8e9-0bf1-40a6-9801-9275607a034c",
   "metadata": {},
   "outputs": [],
   "source": [
    "plot_distributions_sunburst(df, 'grossIncomeGEQ50k', 'nativeCountry')"
   ]
  },
  {
   "cell_type": "code",
   "execution_count": null,
   "id": "df5b1e3b-175f-43d1-a6b6-feb7a20fef24",
   "metadata": {
    "id": "lVrDuicKuhso"
   },
   "outputs": [],
   "source": [
    "df.to_csv('data/full_clean_adult.csv', index=False)"
   ]
  },
  {
   "cell_type": "code",
   "execution_count": null,
   "id": "bf9bd12e-336e-4522-8760-3925ce0ed5a1",
   "metadata": {
    "colab": {
     "base_uri": "https://localhost:8080/"
    },
    "executionInfo": {
     "elapsed": 905,
     "status": "ok",
     "timestamp": 1658245402890,
     "user": {
      "displayName": "Danilo Franco",
      "userId": "05892866970485480074"
     },
     "user_tz": -120
    },
    "id": "cB-XeWqXHmOO",
    "outputId": "ca337860-35b1-4dd2-c8ce-74e7f599df82"
   },
   "outputs": [],
   "source": [
    "split_label_sensitive_and_store_data(df,\n",
    "                                     labels = ['grossIncomeGEQ50k'],\n",
    "                                     sensitives = ['race', 'sex', 'nativeCountry', None],\n",
    "                                     dataset_name = \"adult\")"
   ]
  },
  {
   "attachments": {},
   "cell_type": "markdown",
   "id": "0c92783e-2fd6-4e96-a81e-3f53ed160282",
   "metadata": {
    "jp-MarkdownHeadingCollapsed": true,
    "tags": []
   },
   "source": [
    "## German"
   ]
  },
  {
   "cell_type": "code",
   "execution_count": null,
   "id": "b91b0dc8-a8ec-45cf-a364-2367cf414e5a",
   "metadata": {},
   "outputs": [],
   "source": [
    "columns = ['statusCheckAccount', 'durationMonth', 'creditHistory', 'purpose', 'creditAmount',\n",
    "           'savings', 'employmentDuration', 'installmentRate', 'statusSex', 'otherDebtors',\n",
    "           'presentResidence', 'property', 'age', 'installmentPlans', 'housing', 'numberCredits',\n",
    "           'job', 'peopleLiable', 'telephone', 'foreignWorker', 'creditRisk']\n",
    "\n",
    "cat_ft = ['statusCheckAccount', 'creditHistory', 'purpose',\n",
    "           'savings', 'employmentDuration', 'installmentRate', 'otherDebtors',\n",
    "           'presentResidence', 'property', 'installmentPlans', 'housing', 'numberCredits',\n",
    "           'job']"
   ]
  },
  {
   "cell_type": "code",
   "execution_count": null,
   "id": "59b5b64d-759c-4a09-a033-87ae96159beb",
   "metadata": {},
   "outputs": [],
   "source": [
    "df = pd.read_csv(\"data/raw/SouthGermanCredit.asc\", sep=' ',\n",
    "                 header=0, index_col=None, names=columns).dropna(axis='rows')\n",
    "df"
   ]
  },
  {
   "cell_type": "code",
   "execution_count": null,
   "id": "f975bd16-e387-42d7-8cbd-eebd82bd895c",
   "metadata": {},
   "outputs": [],
   "source": [
    "df[cat_ft] = df[cat_ft].astype(\"category\")\n",
    "df.dtypes"
   ]
  },
  {
   "cell_type": "code",
   "execution_count": null,
   "id": "3227e134-8dbd-48f0-8fe6-54a380b90bfb",
   "metadata": {},
   "outputs": [],
   "source": [
    "# binarize target variable\n",
    "neg_mask = df['creditRisk'] == 0\n",
    "df.loc[neg_mask, 'creditRisk'] = -1\n",
    "df.loc[~neg_mask, 'creditRisk'] = 1\n",
    "df['creditRisk'] = df['creditRisk'].astype(int)\n",
    "\n",
    "# binarize features variables\n",
    "msk = df['telephone'] == 1\n",
    "df.loc[msk, 'telephone'] = 0\n",
    "df.loc[~msk, 'telephone'] = 1\n",
    "df['telephone'] = df['telephone'].astype(int)\n",
    "\n",
    "msk = df['peopleLiable'] == 2\n",
    "df.loc[msk, 'peopleLiable'] = 0\n",
    "df.loc[~msk, 'peopleLiable'] = 1\n",
    "df['peopleLiable'] = df['peopleLiable'].astype(int)\n",
    "\n",
    "# binarize sensitive variables\n",
    "msk = df['foreignWorker'] == 1\n",
    "df.loc[msk, 'foreignWorker'] = 0  # foreign\n",
    "df.loc[~msk, 'foreignWorker'] = 1 # not-foreign\n",
    "df['foreignWorker'] = df['foreignWorker'].astype(int)\n",
    "\n",
    "# drop samples with unknown sex\n",
    "df_sex = df.drop(df.loc[df['statusSex'] == 3].index, axis='rows')\n",
    "msk = df_sex['statusSex'] == 4\n",
    "df_sex.loc[msk, 'sex'] = 0  # female\n",
    "df_sex.loc[~msk, 'sex'] = 1 # male\n",
    "df_sex['sex'] = df_sex['sex'].astype(int)\n",
    "\n",
    "# drop unused columns\n",
    "df_frn = df.dropna(axis='rows').drop(['statusSex'], axis='columns')\n",
    "df_sex = df_sex.dropna(axis='rows').drop(['statusSex'], axis='columns')"
   ]
  },
  {
   "cell_type": "code",
   "execution_count": null,
   "id": "8e270954-1111-47cf-ad38-0f49f7d77efe",
   "metadata": {},
   "outputs": [],
   "source": [
    "print_eo_ratio(df_frn, 'creditRisk', 'foreignWorker')"
   ]
  },
  {
   "cell_type": "code",
   "execution_count": null,
   "id": "50c0e494-04ea-42fd-8bde-162663a075c5",
   "metadata": {},
   "outputs": [],
   "source": [
    "plot_distributions_sunburst(df_frn, 'creditRisk', 'foreignWorker')"
   ]
  },
  {
   "cell_type": "code",
   "execution_count": null,
   "id": "b18f964e-51c6-4389-a95d-55e4c1b8c706",
   "metadata": {},
   "outputs": [],
   "source": [
    "print_eo_ratio(df_sex, 'creditRisk', 'foreignWorker')"
   ]
  },
  {
   "cell_type": "code",
   "execution_count": null,
   "id": "e0cf9628-5d4d-4b9f-b99a-70f9b9e59e50",
   "metadata": {},
   "outputs": [],
   "source": [
    "plot_distributions_sunburst(df_sex, 'creditRisk', 'foreignWorker')"
   ]
  },
  {
   "cell_type": "code",
   "execution_count": null,
   "id": "b859d04f-b046-407c-92da-46aa9c2ed575",
   "metadata": {},
   "outputs": [],
   "source": [
    "print_eo_ratio(df_sex, 'creditRisk', 'sex')"
   ]
  },
  {
   "cell_type": "code",
   "execution_count": null,
   "id": "cc841d49-6858-44a9-8d32-c9eb5d3d8900",
   "metadata": {},
   "outputs": [],
   "source": [
    "plot_distributions_sunburst(df_sex, 'creditRisk', 'sex')"
   ]
  },
  {
   "cell_type": "code",
   "execution_count": null,
   "id": "f1ad0feb-b116-479e-9782-ccb488d01e11",
   "metadata": {},
   "outputs": [],
   "source": [
    "df_frn.to_csv('data/full_clean_german.csv', index=False)\n",
    "df_sex.to_csv('data/full_clean_germanSex.csv', index=False)"
   ]
  },
  {
   "cell_type": "code",
   "execution_count": null,
   "id": "7486c8df-771b-46be-8fbf-97a6b9a9bd1e",
   "metadata": {},
   "outputs": [],
   "source": [
    "split_label_sensitive_and_store_data(df_frn,\n",
    "                                     labels = ['creditRisk'],\n",
    "                                     sensitives = ['foreignWorker', None],\n",
    "                                     dataset_name = \"german\")"
   ]
  },
  {
   "cell_type": "code",
   "execution_count": null,
   "id": "295f486d-10e4-4335-a7aa-cff83a3cbacc",
   "metadata": {},
   "outputs": [],
   "source": [
    "split_label_sensitive_and_store_data(df_sex,\n",
    "                                     labels = ['creditRisk'],\n",
    "                                     sensitives = ['foreignWorker','sex', None],\n",
    "                                     dataset_name = \"germanSex\")"
   ]
  },
  {
   "cell_type": "markdown",
   "id": "16ba2c6a-844d-42a5-8f9e-f301f4d8d637",
   "metadata": {
    "id": "zbY5va1rn2T-",
    "jp-MarkdownHeadingCollapsed": true,
    "tags": []
   },
   "source": [
    "## Drug"
   ]
  },
  {
   "cell_type": "code",
   "execution_count": null,
   "id": "e8678855-d4b7-40ad-b1e1-29df592348fb",
   "metadata": {},
   "outputs": [],
   "source": [
    "columns = {'id':0, 'age':1, 'gender':2, 'education':3, 'country':4, 'ethnicity':5,\n",
    "           'neuroticism':6, 'extraversion':7, 'openness':8, 'agreeableness':9,\n",
    "           'conscientiousness':10, 'impulsiveness':11, 'sensationSeeing':12, 'alcohol':13, 'amphetamines':14,\n",
    "           'amylNitrite':15, 'benzodiazepine':16, 'caffeine':17, 'cannabis':18, 'chocolate':19, 'cocaine':20,\n",
    "           'crack':21, 'ecstasy':22, 'heroin':23, 'ketamine':24, 'legalHighs':25, 'lsd':26,\n",
    "           'methadone':27, 'mushrooms':28, 'nicotine':29, 'semeron':30, 'volatileSubstance':31\n",
    "          }\n",
    "\n",
    "feat_cols = list(columns.keys())[:13]\n",
    "drug_cols = list(columns.keys())[13:]"
   ]
  },
  {
   "cell_type": "code",
   "execution_count": null,
   "id": "9dc59a82-7b7b-47bf-8406-d7848f017641",
   "metadata": {},
   "outputs": [],
   "source": [
    "df = pd.read_csv(\"data/raw/drug.data\", sep=',', header=None, index_col=None, decimal='.', names=columns.keys())\n",
    "df"
   ]
  },
  {
   "cell_type": "code",
   "execution_count": null,
   "id": "f9123517-5919-4966-b16e-927d711faa06",
   "metadata": {},
   "outputs": [],
   "source": [
    "# binarize target variables\n",
    "for drug_col in drug_cols:\n",
    "    neg_mask = (df[drug_col] == 'CL0')# | (df[drug_col] == 'CL1')\n",
    "    df.loc[neg_mask, drug_col] = -1 #'non-user'\n",
    "    df.loc[~neg_mask, drug_col] = 1 #'user'\n",
    "    df[drug_col] = df[drug_col].astype(int)\n",
    "\n",
    "# binarize sensitive variables\n",
    "msk = df['gender'] == 0.48246\n",
    "df.loc[msk, 'gender'] = 0 # female\n",
    "df.loc[~msk, 'gender'] = 1 # male\n",
    "df['gender'] = df['gender'].astype(int)\n",
    "\n",
    "msk = df['ethnicity'] == -0.31685\n",
    "df.loc[msk, 'ethnicity'] = 1 # white\n",
    "df.loc[~msk, 'ethnicity'] = 0 # non-white\n",
    "df['ethnicity'] = df['ethnicity'].astype(int)\n",
    "\n",
    "# drop unused columns\n",
    "df = df.drop(['country', 'id'], axis=1).dropna(axis=0)\n",
    "feat_cols.remove('country')\n",
    "feat_cols.remove('id')\n",
    "df"
   ]
  },
  {
   "cell_type": "code",
   "execution_count": null,
   "id": "b24c1866-500f-480d-ad8b-7d3c0ba1d108",
   "metadata": {},
   "outputs": [],
   "source": [
    "print_eo_ratio(df, 'heroin', 'gender')"
   ]
  },
  {
   "cell_type": "code",
   "execution_count": null,
   "id": "37013201-2282-4ba9-9625-6a059b832fcb",
   "metadata": {},
   "outputs": [],
   "source": [
    "plot_distributions_sunburst(df, 'heroin', 'gender')"
   ]
  },
  {
   "cell_type": "code",
   "execution_count": null,
   "id": "dae2b92c-be3d-47ed-afe3-bd31d34a14bd",
   "metadata": {},
   "outputs": [],
   "source": [
    "print_eo_ratio(df, 'heroin', 'ethnicity')"
   ]
  },
  {
   "cell_type": "code",
   "execution_count": null,
   "id": "64ebe0a7-a93e-405b-9eb0-1bb1b8f25682",
   "metadata": {},
   "outputs": [],
   "source": [
    "plot_distributions_sunburst(df, 'heroin', 'ethnicity')"
   ]
  },
  {
   "cell_type": "code",
   "execution_count": null,
   "id": "140e0a94-5d41-4433-aa27-950287693d00",
   "metadata": {},
   "outputs": [],
   "source": [
    "print_eo_ratio(df, 'amphetamines', 'gender')"
   ]
  },
  {
   "cell_type": "code",
   "execution_count": null,
   "id": "75ff9edf-77b6-4358-bf5b-8b85cc048379",
   "metadata": {},
   "outputs": [],
   "source": [
    "plot_distributions_sunburst(df, 'amphetamines', 'gender')"
   ]
  },
  {
   "cell_type": "code",
   "execution_count": null,
   "id": "a1cb79eb-9d8c-4e2c-b691-d60f1818c483",
   "metadata": {},
   "outputs": [],
   "source": [
    "print_eo_ratio(df, 'amphetamines', 'ethnicity')"
   ]
  },
  {
   "cell_type": "code",
   "execution_count": null,
   "id": "1be874a4-2288-4874-91f2-4dad27ec3b69",
   "metadata": {},
   "outputs": [],
   "source": [
    "plot_distributions_sunburst(df, 'amphetamines', 'ethnicity')"
   ]
  },
  {
   "cell_type": "code",
   "execution_count": null,
   "id": "4824f697-318b-4fae-80fe-4e0154e1e7b6",
   "metadata": {},
   "outputs": [],
   "source": [
    "df.to_csv('data/full_clean_drug.csv', index=False)"
   ]
  },
  {
   "cell_type": "code",
   "execution_count": null,
   "id": "a1974a0c-3034-484c-9c1d-c517bc8aaa98",
   "metadata": {},
   "outputs": [],
   "source": [
    "split_label_sensitive_and_store_data(df[feat_cols+['heroin']],\n",
    "                                     labels = ['heroin'],\n",
    "                                     sensitives = ['gender', 'ethnicity', None],\n",
    "                                     dataset_name = \"drug\")"
   ]
  },
  {
   "cell_type": "code",
   "execution_count": null,
   "id": "69d0edd6-29ad-4212-8d23-8fbb11586568",
   "metadata": {},
   "outputs": [],
   "source": [
    "split_label_sensitive_and_store_data(df[feat_cols+['amphetamines']],\n",
    "                                     labels = ['amphetamines'],\n",
    "                                     sensitives = ['gender', 'ethnicity', None],\n",
    "                                     dataset_name = \"drug\")"
   ]
  },
  {
   "cell_type": "markdown",
   "id": "3ff920fc-af16-4684-9c38-ff84815e4ad0",
   "metadata": {
    "jp-MarkdownHeadingCollapsed": true,
    "tags": []
   },
   "source": [
    "## Credit"
   ]
  },
  {
   "cell_type": "code",
   "execution_count": null,
   "id": "54348307-f0a2-4cff-b335-def33c433aa3",
   "metadata": {},
   "outputs": [],
   "source": [
    "df = pd.read_csv(\"data/raw/credit.csv\", sep=',', header=0, index_col=None)\n",
    "df = df.drop('Single', axis='columns').dropna(axis='rows')\n",
    "df"
   ]
  },
  {
   "cell_type": "code",
   "execution_count": null,
   "id": "386b2432-f2bb-436b-a885-f91092330fb5",
   "metadata": {},
   "outputs": [],
   "source": [
    "neg_mask = df['NoDefaultNextMonth'] == 0\n",
    "df.loc[neg_mask, 'NoDefaultNextMonth'] = -1\n",
    "df.loc[~neg_mask, 'NoDefaultNextMonth'] = 1\n",
    "df['NoDefaultNextMonth'] = df['NoDefaultNextMonth'].astype(int)"
   ]
  },
  {
   "cell_type": "code",
   "execution_count": null,
   "id": "0f816576-d949-4fe9-8b2b-6ed486818c65",
   "metadata": {},
   "outputs": [],
   "source": [
    "print_eo_ratio(df, 'NoDefaultNextMonth', 'Age')"
   ]
  },
  {
   "cell_type": "code",
   "execution_count": null,
   "id": "b866ef52-2ee5-4248-aa2d-eb40b405a469",
   "metadata": {},
   "outputs": [],
   "source": [
    "plot_distributions_sunburst(df, 'NoDefaultNextMonth', 'Age')"
   ]
  },
  {
   "cell_type": "code",
   "execution_count": null,
   "id": "20d7ece8-a5d6-4a81-90f5-82dbdddd1878",
   "metadata": {},
   "outputs": [],
   "source": [
    "df.to_csv('data/full_clean_credit.csv', index=False)"
   ]
  },
  {
   "cell_type": "code",
   "execution_count": null,
   "id": "6580a133-ad3a-419d-b5b4-ab64d7af8186",
   "metadata": {},
   "outputs": [],
   "source": [
    "split_label_sensitive_and_store_data(df,\n",
    "                                     labels = ['NoDefaultNextMonth'],\n",
    "                                     sensitives = ['Age', None],\n",
    "                                     dataset_name = \"credit\")"
   ]
  },
  {
   "cell_type": "markdown",
   "id": "b9e2cc36-0bab-4a7e-ad40-fb1be1713623",
   "metadata": {
    "jp-MarkdownHeadingCollapsed": true,
    "tags": []
   },
   "source": [
    "## Taiwan Credit"
   ]
  },
  {
   "cell_type": "code",
   "execution_count": null,
   "id": "c464d8fd-58ad-4b9a-9193-bf0168541ae2",
   "metadata": {},
   "outputs": [],
   "source": [
    "df = pd.read_excel('data/raw/taiwan.xls', header=1, index_col=0)\n",
    "df.columns = [col.lower() for col in df.columns]\n",
    "df = df.rename({'default payment next month':'defaultNextMonth'}, axis='columns')\n",
    "df"
   ]
  },
  {
   "cell_type": "code",
   "execution_count": null,
   "id": "411d3ccd-71ea-4971-a1e8-3fe63d7f4024",
   "metadata": {},
   "outputs": [],
   "source": [
    "# binarize target variable\n",
    "neg_mask = df['defaultNextMonth'] == 0\n",
    "df.loc[neg_mask, 'defaultNextMonth'] = -1\n",
    "df.loc[~neg_mask, 'defaultNextMonth'] = 1\n",
    "df['defaultNextMonth'] = df['defaultNextMonth'].astype(int)\n",
    "\n",
    "# binarize sensitive variables\n",
    "msk = df['sex'] == 2\n",
    "df.loc[msk, 'sex'] = 0 # female\n",
    "df.loc[~msk, 'sex'] = 1 # male\n",
    "df['sex'] = df['sex'].astype(int)\n",
    "\n",
    "df"
   ]
  },
  {
   "cell_type": "code",
   "execution_count": null,
   "id": "a4bc4234-76ad-4596-bbea-9c1d4b1b6f10",
   "metadata": {},
   "outputs": [],
   "source": [
    "print_eo_ratio(df, 'defaultNextMonth', 'sex')"
   ]
  },
  {
   "cell_type": "code",
   "execution_count": null,
   "id": "808b2ceb-ca35-4092-8f70-5b6fb02510f9",
   "metadata": {},
   "outputs": [],
   "source": [
    "plot_distributions_sunburst(df, 'defaultNextMonth', 'sex')"
   ]
  },
  {
   "cell_type": "code",
   "execution_count": null,
   "id": "b54de7b7-05e9-416a-a474-6817ce5de015",
   "metadata": {},
   "outputs": [],
   "source": [
    "df.to_csv('data/full_clean_taiwan.csv', index=False)"
   ]
  },
  {
   "cell_type": "code",
   "execution_count": null,
   "id": "deb8f53b-4eff-4561-ac7b-6477e9305c64",
   "metadata": {},
   "outputs": [],
   "source": [
    "split_label_sensitive_and_store_data(df,\n",
    "                                     labels = ['defaultNextMonth'],\n",
    "                                     sensitives = ['sex', None],\n",
    "                                     dataset_name = \"taiwan\")"
   ]
  }
 ],
 "metadata": {
  "kernelspec": {
   "display_name": "robsvm",
   "language": "python",
   "name": "python3"
  },
  "language_info": {
   "codemirror_mode": {
    "name": "ipython",
    "version": 3
   },
   "file_extension": ".py",
   "mimetype": "text/x-python",
   "name": "python",
   "nbconvert_exporter": "python",
   "pygments_lexer": "ipython3",
   "version": "3.10.8"
  },
  "vscode": {
   "interpreter": {
    "hash": "2d9aea93ecae1d5d0536c95cb0ddeef6699f7fa2743574fb15a3446db5748653"
   }
  }
 },
 "nbformat": 4,
 "nbformat_minor": 5
}
