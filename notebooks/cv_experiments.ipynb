{
 "cells": [
  {
   "cell_type": "markdown",
   "id": "8f7e1401-ee93-4b19-98ef-3da784cfb6c0",
   "metadata": {},
   "source": [
    "# Sklearn cross-validation for selecting best hyperparams and averaging results across test splits"
   ]
  },
  {
   "cell_type": "code",
   "execution_count": null,
   "id": "c5b94703-aa5e-4ec9-b8e5-41e4cd2ea063",
   "metadata": {},
   "outputs": [],
   "source": [
    "import os\n",
    "os.chdir('..')"
   ]
  },
  {
   "cell_type": "markdown",
   "id": "5813e7f2-5236-4eb2-9753-64b8f3341d60",
   "metadata": {
    "tags": []
   },
   "source": [
    "## Cross validate"
   ]
  },
  {
   "cell_type": "code",
   "execution_count": null,
   "id": "7e8554ac-adc7-423c-ac16-ddb93e41fdc4",
   "metadata": {},
   "outputs": [],
   "source": [
    "from fair_robust_classifiers.metrics.scorers import SubgroupsMetricScorer, DDPMetricScorer, CounterfactualScorer\n",
    "from sklearn.metrics import balanced_accuracy_score\n",
    "        \n",
    "cv_scorers = {\n",
    "    # utility scorers\n",
    "    \"balancedAccuracy\": SubgroupsMetricScorer(balanced_accuracy_score, need_class_predictions=True),\n",
    "    \n",
    "    # fairness scorer\n",
    "    'demographicParity': DDPMetricScorer(),\n",
    "    'equalOpportunityPos': DDPMetricScorer(evaluation_class=1),\n",
    "    'equalOpportunityNeg': DDPMetricScorer(evaluation_class=-1),\n",
    "    \"counterfactual\": CounterfactualScorer(),\n",
    "    \"counterfactualPos\": CounterfactualScorer(evaluation_class=1),\n",
    "    \"counterfactualNeg\": CounterfactualScorer(evaluation_class=-1),\n",
    "}\n",
    "cv_scorers_red = {k:v for k,v in cv_scorers.items() if 'counterfactual' not in k}"
   ]
  },
  {
   "attachments": {},
   "cell_type": "markdown",
   "id": "e8577c7c-1393-4768-964d-ec039f4b7463",
   "metadata": {
    "tags": []
   },
   "source": [
    "### Train and Store with hyperparameters combinations"
   ]
  },
  {
   "attachments": {},
   "cell_type": "markdown",
   "id": "57b2a6a1",
   "metadata": {},
   "source": [
    "#### Gurobi SVC"
   ]
  },
  {
   "cell_type": "code",
   "execution_count": null,
   "id": "0ca8d754",
   "metadata": {},
   "outputs": [],
   "source": [
    "\n",
    "datasets = [\n",
    "    ('arrhythmia', 'hasArrhythmia','sex'),\n",
    "    \n",
    "    #('adult', 'grossIncomeGEQ50k','race'),\n",
    "    ('adult', 'grossIncomeGEQ50k','sex'), # <-\n",
    "    #('adult', 'grossIncomeGEQ50k','nativeCountry'),\n",
    "\n",
    "    ('credit', 'NoDefaultNextMonth', 'Age'),\n",
    "\n",
    "    #('drug', 'heroin', 'gender'),\n",
    "    #('drug', 'heroin', 'ethnicity'),\n",
    "    ('drug', 'amphetamines', 'gender'), # <-\n",
    "    #('drug', 'amphetamines', 'ethnicity'),\n",
    "    \n",
    "    ('germanSex', 'creditRisk', 'sex'),\n",
    "    \n",
    "    #('compas', 'twoYearRecid','sex'),\n",
    "    ('compas', 'twoYearRecid','race'), # <-\n",
    "    \n",
    "    ('taiwan', 'defaultNextMonth', 'sex'),\n",
    "    ]\n",
    "\n",
    "bias_mitigation = [None,\n",
    "                   'linearDP', 'linearEOPpos', 'linearEOPneg',\n",
    "                   'invertedHingesDP', 'invertedHingesEOPpos',  'invertedHingesEOPneg',\n",
    "                  ]\n",
    "\n",
    "kernel = 'gaussian'"
   ]
  },
  {
   "cell_type": "code",
   "execution_count": null,
   "id": "f32b22aa-1055-418a-a0f4-6edffa6c9ca7",
   "metadata": {},
   "outputs": [],
   "source": [
    "from fair_robust_classifiers.cross_validation.methods import gurobi_simple_cv_bias_mitigation\n",
    "\n",
    "for data_str, label_str, sensitive_str in datasets:\n",
    "    for bm in bias_mitigation:\n",
    "        print(f\"\\nBias mitigation: {bm} for dataset {data_str}\")\n",
    "        gurobi_simple_cv_bias_mitigation(data_str, label_str, sensitive_str,\n",
    "                                        evaluation_scorers = cv_scorers,\n",
    "                                        kernel = kernel,\n",
    "                                        bias_mitigation = bm,\n",
    "                                        num_test_splits = 2,\n",
    "                                        num_samples = 1000,\n",
    "                                        balance_classes = False,\n",
    "                                        include_sensitive = True,\n",
    "                                        train_percentage = .7)"
   ]
  },
  {
   "attachments": {},
   "cell_type": "markdown",
   "id": "1bb47469-8d0d-42b0-87bf-c362d5c6fea4",
   "metadata": {
    "tags": []
   },
   "source": [
    "### Evaluate utility and fairness and select best hyperparameters"
   ]
  },
  {
   "cell_type": "code",
   "execution_count": null,
   "id": "1d814020",
   "metadata": {},
   "outputs": [],
   "source": [
    "\n",
    "from fair_robust_classifiers.cross_validation.evaluation import evaluate_bias_mitigation\n",
    "from fair_robust_classifiers.cross_validation.cv_utils import cv_results_name"
   ]
  },
  {
   "cell_type": "code",
   "execution_count": null,
   "id": "929694d1-50c3-4832-a2c4-76aa16d60b59",
   "metadata": {},
   "outputs": [],
   "source": [
    "selection_metrics = [\n",
    "    \"balancedAccuracy\",\n",
    "\n",
    "    \"demographicParity\",\n",
    "    \"equalOpportunityNeg\",\n",
    "    \"equalOpportunityPos\",\n",
    "    \"counterfactual\",\n",
    "    \"counterfactualPos\",\n",
    "    \"counterfactualNeg\",\n",
    "\n",
    "    \"90_balancedAccuracy_min_demographicParity\",\n",
    "    \"90_balancedAccuracy_min_equalOpportunityNeg\",\n",
    "    \"90_balancedAccuracy_min_equalOpportunityPos\",\n",
    "    \"90_balancedAccuracy_min_counterfactual\",\n",
    "    \"90_balancedAccuracy_min_counterfactualPos\",\n",
    "    \"90_balancedAccuracy_min_counterfactualNeg\",\n",
    "]\n",
    "selection_metrics_red = [sm for sm in selection_metrics if 'counterfactual' not in sm]"
   ]
  },
  {
   "attachments": {},
   "cell_type": "markdown",
   "id": "96addca6",
   "metadata": {},
   "source": [
    "#### Gurobi SVC"
   ]
  },
  {
   "cell_type": "code",
   "execution_count": null,
   "id": "016ccf5c-de3a-4e2b-9548-cccec9942f90",
   "metadata": {},
   "outputs": [],
   "source": [
    "\n",
    "load_path = os.path.join('results', 'gurobiSVC', f'grid_search_results_simple')\n",
    "\n",
    "bias_mitigation = ['noMitigation',\n",
    "                   'linearDP', 'linearEOPpos', 'linearEOPneg',\n",
    "                   'invertedHingesDP', 'invertedHingesEOPpos', 'invertedHingesEOPneg',\n",
    "                  ]\n",
    "\n",
    "kernel = 'gaussian' # None, 'gaussian'\n",
    "\n",
    "for data in ['arrhythmia', \n",
    "            #'adult', 'arrhythmia','bail','compas','credit','drug','germanSex','taiwan'\n",
    "            ]:\n",
    "    for incl_sens in [True, False]:\n",
    "        for bm in bias_mitigation:\n",
    "            for sm in (selection_metrics if incl_sens else selection_metrics_red):\n",
    "                #print(f\"{data}, sens:{incl_sens}, {bm}, {sm}\")\n",
    "                file_name = cv_results_name(data, include_sens=incl_sens, bias_mitigation=bm,\n",
    "                                            balance_classes=False, kernel=kernel)\n",
    "\n",
    "                evaluate_bias_mitigation(result_load_path = load_path,\n",
    "                                         result_file_name = file_name,\n",
    "                                         selection_metric = sm,\n",
    "                                         evaluation_scorers = cv_scorers if incl_sens else cv_scorers_red,\n",
    "                                         selection_phase = 'validation',\n",
    "                                         verbose = 0)"
   ]
  },
  {
   "cell_type": "markdown",
   "id": "5ed02580-9860-4a9a-aee8-3d432f3b0736",
   "metadata": {
    "tags": []
   },
   "source": [
    "## Plots"
   ]
  },
  {
   "attachments": {},
   "cell_type": "markdown",
   "id": "999e5373",
   "metadata": {},
   "source": [
    "### Methods scatterplots"
   ]
  },
  {
   "cell_type": "code",
   "execution_count": null,
   "id": "3d110f22",
   "metadata": {},
   "outputs": [],
   "source": [
    "import os\n",
    "\n",
    "pl_d = {\n",
    "    'file_path': os.path.join(\"results\", 'gurobiSVC', f\"grid_search_results_simple\"),\n",
    "    'datasets':{\n",
    "        'adult': 'Pos',\n",
    "        'arrhythmia':'Neg',\n",
    "        'compas':'Pos',\n",
    "        'credit':'Neg',\n",
    "        'drug':'Neg',\n",
    "        'germanSex':'Neg',\n",
    "        'taiwan':'Pos',\n",
    "    },\n",
    "    'phase': 'test',\n",
    "    'settings': [\n",
    "        [{'percent':90, 'util_fn':'balancedAccuracy', 'fair_fn':'demographicParity', 'mitig':'DP', 'sensitive':True},\n",
    "         {'percent':90, 'util_fn':'balancedAccuracy', 'fair_fn':'counterfactual', 'mitig':'DP', 'sensitive':True},\n",
    "         {'percent':90, 'util_fn':'balancedAccuracy', 'fair_fn':'equalOpportunity', 'mitig':'EOp', 'sensitive':True}],\n",
    "    ],\n",
    "}"
   ]
  },
  {
   "cell_type": "code",
   "execution_count": null,
   "id": "857966de",
   "metadata": {},
   "outputs": [],
   "source": [
    "from fair_robust_classifiers.utilities.plot_utils import normalized_accuracy_fairness_plot_cum\n",
    "\n",
    "normalized_accuracy_fairness_plot_cum(pl_d)"
   ]
  },
  {
   "attachments": {},
   "cell_type": "markdown",
   "id": "8b139ab7-28d7-4314-998a-d343f5b245ee",
   "metadata": {
    "jp-MarkdownHeadingCollapsed": true,
    "tags": []
   },
   "source": [
    "### Tables - best hyper-pameters selection "
   ]
  },
  {
   "cell_type": "code",
   "execution_count": null,
   "id": "38ad9a84-74b3-4ab2-8316-d4eee8925c22",
   "metadata": {},
   "outputs": [],
   "source": [
    "from fair_robust_classifiers.utilities.plot_utils import make_fairness_results_table\n",
    "\n",
    "hyp_sel_metrics = [\n",
    "    \"90_balancedAccuracy_min_demographicParity\",\n",
    "    \"90_balancedAccuracy_min_equalOpportunityPos\",\n",
    "    \"90_balancedAccuracy_min_equalOpportunityNeg\",\n",
    "    \"90_balancedAccuracy_min_counterfactual\",\n",
    "    \"90_balancedAccuracy_min_counterfactualPos\",\n",
    "    \"90_balancedAccuracy_min_counterfactualNeg\",\n",
    "    ]\n",
    "hyp_sel_metrics_red = [sm for sm in hyp_sel_metrics if 'counterfactual' not in sm]\n",
    "\n",
    "eval_metrics = [\"balancedAccuracy\",\n",
    "                \"demographicParity\", \"equalOpportunityPos\", \"equalOpportunityNeg\",\n",
    "                \"counterfactual\", 'counterfactualPos', 'counterfactualNeg',\n",
    "                ]\n",
    "eval_metrics_red = [em for em in eval_metrics if 'counterfactual' not in em]"
   ]
  },
  {
   "attachments": {},
   "cell_type": "markdown",
   "id": "7f11896f",
   "metadata": {},
   "source": [
    "#### Gurobi SVC"
   ]
  },
  {
   "cell_type": "code",
   "execution_count": null,
   "id": "7153a2df",
   "metadata": {},
   "outputs": [],
   "source": [
    "mitigation_methods = ['noMitigation',\n",
    "                      \"linearDP\", \"invertedHingesDP\",\n",
    "                      \"linearEOPpos\", \"invertedHingesEOPpos\",\n",
    "                      \"linearEOPneg\", \"invertedHingesEOPneg\",\n",
    "                      ]\n",
    "\n",
    "f_path = os.path.join('results','gurobiSVC',f'grid_search_results_simple')"
   ]
  },
  {
   "attachments": {},
   "cell_type": "markdown",
   "id": "198eaa68",
   "metadata": {},
   "source": [
    "##### Adult - 'Neg'"
   ]
  },
  {
   "cell_type": "code",
   "execution_count": null,
   "id": "6d85cb53",
   "metadata": {},
   "outputs": [],
   "source": [
    "# ----- Adult - no kernel - include sensitive\n",
    "make_fairness_results_table('adult',\n",
    "                            selection_metrics = hyp_sel_metrics,\n",
    "                            mitigation_methods = mitigation_methods,\n",
    "                            evaluation_metrics = eval_metrics,\n",
    "                            include_sensitive = True,\n",
    "                            balance_classes = False,\n",
    "                            kernel = None,\n",
    "                            phase = 'test',\n",
    "                            folder_path = f_path)"
   ]
  },
  {
   "cell_type": "code",
   "execution_count": null,
   "id": "c398aef7",
   "metadata": {},
   "outputs": [],
   "source": [
    "# ----- Adult - gauss kernel - include sensitive\n",
    "make_fairness_results_table('adult',\n",
    "                            selection_metrics = hyp_sel_metrics,\n",
    "                            mitigation_methods = mitigation_methods,\n",
    "                            evaluation_metrics = eval_metrics,\n",
    "                            include_sensitive = True,\n",
    "                            balance_classes = False,\n",
    "                            kernel = 'gaussian',\n",
    "                            phase = 'test',\n",
    "                            folder_path = f_path)"
   ]
  },
  {
   "attachments": {},
   "cell_type": "markdown",
   "id": "fad7f96a",
   "metadata": {},
   "source": [
    "##### Arrhythmia - 'Pos'"
   ]
  },
  {
   "cell_type": "code",
   "execution_count": null,
   "id": "e565c42c",
   "metadata": {},
   "outputs": [],
   "source": [
    "# ----- Arrhythmia - no kernel - include sensitive\n",
    "make_fairness_results_table('arrhythmia',\n",
    "                            selection_metrics = hyp_sel_metrics,\n",
    "                            mitigation_methods = mitigation_methods,\n",
    "                            evaluation_metrics = eval_metrics,\n",
    "                            include_sensitive = True,\n",
    "                            balance_classes = False,\n",
    "                            kernel = None,\n",
    "                            phase = 'test',\n",
    "                            folder_path = f_path)"
   ]
  },
  {
   "cell_type": "code",
   "execution_count": null,
   "id": "467e7730",
   "metadata": {},
   "outputs": [],
   "source": [
    "# ----- Arrhythmia - gauss kernel - include sensitive\n",
    "make_fairness_results_table('arrhythmia',\n",
    "                            selection_metrics = hyp_sel_metrics,\n",
    "                            mitigation_methods = mitigation_methods,\n",
    "                            evaluation_metrics = eval_metrics,\n",
    "                            include_sensitive = True,\n",
    "                            balance_classes = False,\n",
    "                            kernel = 'gaussian',\n",
    "                            phase = 'test',\n",
    "                            folder_path = f_path)"
   ]
  },
  {
   "attachments": {},
   "cell_type": "markdown",
   "id": "76f8711e",
   "metadata": {},
   "source": [
    "##### Bail - 'Neg'"
   ]
  },
  {
   "cell_type": "code",
   "execution_count": null,
   "id": "c99c5717",
   "metadata": {},
   "outputs": [],
   "source": [
    "# ----- Bail - no kernel - include sensitive\n",
    "make_fairness_results_table('bail',\n",
    "                            selection_metrics = hyp_sel_metrics,\n",
    "                            mitigation_methods = mitigation_methods,\n",
    "                            evaluation_metrics = eval_metrics,\n",
    "                            include_sensitive = True,\n",
    "                            balance_classes = False,\n",
    "                            kernel = None,\n",
    "                            phase = 'test',\n",
    "                            folder_path = f_path)"
   ]
  },
  {
   "cell_type": "code",
   "execution_count": null,
   "id": "095aa9e9",
   "metadata": {},
   "outputs": [],
   "source": [
    "# ----- Bail - gauss kernel - include sensitive\n",
    "make_fairness_results_table('bail',\n",
    "                            selection_metrics = hyp_sel_metrics,\n",
    "                            mitigation_methods = mitigation_methods,\n",
    "                            evaluation_metrics = eval_metrics,\n",
    "                            include_sensitive = True,\n",
    "                            balance_classes = False,\n",
    "                            kernel = 'gaussian',\n",
    "                            phase = 'test',\n",
    "                            folder_path = f_path)"
   ]
  },
  {
   "attachments": {},
   "cell_type": "markdown",
   "id": "d215d14e",
   "metadata": {},
   "source": [
    "##### Compas - 'Pos'"
   ]
  },
  {
   "cell_type": "code",
   "execution_count": null,
   "id": "4a6b6883",
   "metadata": {},
   "outputs": [],
   "source": [
    "# ----- Compas - no kernel - include sensitive\n",
    "make_fairness_results_table('compas',\n",
    "                            selection_metrics = hyp_sel_metrics,\n",
    "                            mitigation_methods = mitigation_methods,\n",
    "                            evaluation_metrics = eval_metrics,\n",
    "                            include_sensitive = True,\n",
    "                            balance_classes = False,\n",
    "                            kernel = None,\n",
    "                            phase = 'test',\n",
    "                            folder_path = f_path)"
   ]
  },
  {
   "cell_type": "code",
   "execution_count": null,
   "id": "66374bc1",
   "metadata": {},
   "outputs": [],
   "source": [
    "# ----- Compas - gauss kernel - include sensitive\n",
    "make_fairness_results_table('compas',\n",
    "                            selection_metrics = hyp_sel_metrics,\n",
    "                            mitigation_methods = mitigation_methods,\n",
    "                            evaluation_metrics = eval_metrics,\n",
    "                            include_sensitive = True,\n",
    "                            balance_classes = False,\n",
    "                            kernel = 'gaussian',\n",
    "                            phase = 'test',\n",
    "                            folder_path = f_path)"
   ]
  },
  {
   "attachments": {},
   "cell_type": "markdown",
   "id": "b19adfc0",
   "metadata": {},
   "source": [
    "##### Credit - 'Neg'"
   ]
  },
  {
   "cell_type": "code",
   "execution_count": null,
   "id": "9509ac42",
   "metadata": {},
   "outputs": [],
   "source": [
    "# ----- Credit  - no kernel - include sensitive\n",
    "make_fairness_results_table('credit',\n",
    "                            selection_metrics = hyp_sel_metrics,\n",
    "                            mitigation_methods = mitigation_methods,\n",
    "                            evaluation_metrics = eval_metrics,\n",
    "                            include_sensitive = True,\n",
    "                            balance_classes = False,\n",
    "                            kernel = None,\n",
    "                            phase = 'test',\n",
    "                            folder_path = f_path)"
   ]
  },
  {
   "cell_type": "code",
   "execution_count": null,
   "id": "2fcf91de",
   "metadata": {},
   "outputs": [],
   "source": [
    "# ----- Credit - gauss kernel - include sensitive\n",
    "make_fairness_results_table('credit',\n",
    "                            selection_metrics = hyp_sel_metrics,\n",
    "                            mitigation_methods = mitigation_methods,\n",
    "                            evaluation_metrics = eval_metrics,\n",
    "                            include_sensitive = True,\n",
    "                            balance_classes = False,\n",
    "                            kernel = 'gaussian',\n",
    "                            phase = 'test',\n",
    "                            folder_path = f_path)"
   ]
  },
  {
   "attachments": {},
   "cell_type": "markdown",
   "id": "e2a2337c",
   "metadata": {},
   "source": [
    "##### Drug - 'Neg'"
   ]
  },
  {
   "cell_type": "code",
   "execution_count": null,
   "id": "06206e70",
   "metadata": {},
   "outputs": [],
   "source": [
    "# ----- Drug - no kernel - include sensitive\n",
    "make_fairness_results_table('drug',\n",
    "                            selection_metrics = hyp_sel_metrics,\n",
    "                            mitigation_methods = mitigation_methods,\n",
    "                            evaluation_metrics = eval_metrics,\n",
    "                            include_sensitive = True,\n",
    "                            balance_classes = False,\n",
    "                            kernel = None,\n",
    "                            phase = 'test',\n",
    "                            folder_path = f_path)"
   ]
  },
  {
   "cell_type": "code",
   "execution_count": null,
   "id": "849cc036",
   "metadata": {},
   "outputs": [],
   "source": [
    "# ----- Drug - gauss kernel - include sensitive\n",
    "make_fairness_results_table('drug',\n",
    "                            selection_metrics = hyp_sel_metrics,\n",
    "                            mitigation_methods = mitigation_methods,\n",
    "                            evaluation_metrics = eval_metrics,\n",
    "                            include_sensitive = True,\n",
    "                            balance_classes = False,\n",
    "                            kernel = 'gaussian',\n",
    "                            phase = 'test',\n",
    "                            folder_path = f_path)"
   ]
  },
  {
   "attachments": {},
   "cell_type": "markdown",
   "id": "3cf5f2ba",
   "metadata": {},
   "source": [
    "##### German - 'Neg'"
   ]
  },
  {
   "cell_type": "code",
   "execution_count": null,
   "id": "8ba3bd83",
   "metadata": {},
   "outputs": [],
   "source": [
    "# ----- German - no kernel - include sensitive\n",
    "make_fairness_results_table('germanSex',\n",
    "                            selection_metrics = hyp_sel_metrics,\n",
    "                            mitigation_methods = mitigation_methods,\n",
    "                            evaluation_metrics = eval_metrics,\n",
    "                            include_sensitive = True,\n",
    "                            balance_classes = False,\n",
    "                            kernel = None,\n",
    "                            phase = 'test',\n",
    "                            folder_path = f_path)"
   ]
  },
  {
   "cell_type": "code",
   "execution_count": null,
   "id": "240a6ace",
   "metadata": {},
   "outputs": [],
   "source": [
    "# ----- German - gauss kernel - include sensitive\n",
    "make_fairness_results_table('germanSex',\n",
    "                            selection_metrics = hyp_sel_metrics,\n",
    "                            mitigation_methods = mitigation_methods,\n",
    "                            evaluation_metrics = eval_metrics,\n",
    "                            include_sensitive = True,\n",
    "                            balance_classes = False,\n",
    "                            kernel = 'gaussian',\n",
    "                            phase = 'test',\n",
    "                            folder_path = f_path)"
   ]
  },
  {
   "attachments": {},
   "cell_type": "markdown",
   "id": "a12a1bf7",
   "metadata": {},
   "source": [
    "##### Taiwan - 'Pos'"
   ]
  },
  {
   "cell_type": "code",
   "execution_count": null,
   "id": "709d3d9d",
   "metadata": {},
   "outputs": [],
   "source": [
    "# ----- Taiwan Credit - no kernel - include sensitive\n",
    "make_fairness_results_table('taiwan',\n",
    "                            selection_metrics = hyp_sel_metrics,\n",
    "                            mitigation_methods = mitigation_methods,\n",
    "                            evaluation_metrics = eval_metrics,\n",
    "                            include_sensitive = True,\n",
    "                            balance_classes = False,\n",
    "                            kernel = None,\n",
    "                            phase = 'test',\n",
    "                            folder_path = f_path)"
   ]
  },
  {
   "cell_type": "code",
   "execution_count": null,
   "id": "03f18e9c",
   "metadata": {},
   "outputs": [],
   "source": [
    "# ----- Taiwan Credit - gauss kernel - include sensitive\n",
    "make_fairness_results_table('taiwan',\n",
    "                            selection_metrics = hyp_sel_metrics,\n",
    "                            mitigation_methods = mitigation_methods,\n",
    "                            evaluation_metrics = eval_metrics,\n",
    "                            include_sensitive = True,\n",
    "                            balance_classes = False,\n",
    "                            kernel = 'gaussian',\n",
    "                            phase = 'test',\n",
    "                            folder_path = f_path)"
   ]
  }
 ],
 "metadata": {
  "kernelspec": {
   "display_name": "robsvm",
   "language": "python",
   "name": "python3"
  },
  "language_info": {
   "codemirror_mode": {
    "name": "ipython",
    "version": 3
   },
   "file_extension": ".py",
   "mimetype": "text/x-python",
   "name": "python",
   "nbconvert_exporter": "python",
   "pygments_lexer": "ipython3",
   "version": "3.10.8"
  },
  "vscode": {
   "interpreter": {
    "hash": "2d9aea93ecae1d5d0536c95cb0ddeef6699f7fa2743574fb15a3446db5748653"
   }
  }
 },
 "nbformat": 4,
 "nbformat_minor": 5
}
